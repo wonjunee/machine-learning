{
 "cells": [
  {
   "cell_type": "markdown",
   "metadata": {},
   "source": [
    "# Investigating Enron Dataset\n",
    "## Machine Learning Course from Udacity Data Analyst Nanodegree"
   ]
  },
  {
   "cell_type": "markdown",
   "metadata": {},
   "source": [
    "This is the final project for the machine learning course. Enron financial data and email data will be investigated to find the list of person of interest (POI) who was involved in the fraud activities.\n",
    "\n",
    "Below is the order of the investigation process I will employ for this final project.\n",
    "- Use univariate and multivariate analysis to guess which features can be used to find POIs\n",
    "- Processing dataset (taking care of missing values and outliers)\n",
    "- Dimension reduction through PCA\n",
    "- Try a variety of classfiers"
   ]
  },
  {
   "cell_type": "markdown",
   "metadata": {},
   "source": [
    "First, necessary Libraries will be loaded."
   ]
  },
  {
   "cell_type": "code",
   "execution_count": 25,
   "metadata": {
    "collapsed": false
   },
   "outputs": [],
   "source": [
    "#!/usr/bin/python\n",
    "\n",
    "import sys\n",
    "import pickle\n",
    "import pprint\n",
    "import matplotlib.pyplot as plt\n",
    "\n",
    "### Setting the path\n",
    "sys.path.append(\"../tools/\")\n",
    "\n",
    "### These are the scripts given in the class\n",
    "from feature_format import featureFormat, targetFeatureSplit\n",
    "from tester import dump_classifier_and_data"
   ]
  },
  {
   "cell_type": "markdown",
   "metadata": {},
   "source": [
    "Load the dictionary containing the dataset."
   ]
  },
  {
   "cell_type": "code",
   "execution_count": 5,
   "metadata": {
    "collapsed": true
   },
   "outputs": [],
   "source": [
    "### Load the dictionary containing the dataset\n",
    "with open(\"final_project_dataset.pkl\", \"r\") as data_file:\n",
    "    data_dict = pickle.load(data_file)"
   ]
  },
  {
   "cell_type": "code",
   "execution_count": 16,
   "metadata": {
    "collapsed": false
   },
   "outputs": [
    {
     "data": {
      "text/plain": [
       "146"
      ]
     },
     "execution_count": 16,
     "metadata": {},
     "output_type": "execute_result"
    }
   ],
   "source": [
    "len(data_dict)"
   ]
  },
  {
   "cell_type": "markdown",
   "metadata": {},
   "source": [
    "There are total 146 number of data in data_dict. I am going to print out the first two of the data from data_dict to see how the dictionary looks like."
   ]
  },
  {
   "cell_type": "code",
   "execution_count": 19,
   "metadata": {
    "collapsed": false
   },
   "outputs": [
    {
     "name": "stdout",
     "output_type": "stream",
     "text": [
      "METTS MARK\n",
      "{'bonus': 600000,\n",
      " 'deferral_payments': 'NaN',\n",
      " 'deferred_income': 'NaN',\n",
      " 'director_fees': 'NaN',\n",
      " 'email_address': 'mark.metts@enron.com',\n",
      " 'exercised_stock_options': 'NaN',\n",
      " 'expenses': 94299,\n",
      " 'from_messages': 29,\n",
      " 'from_poi_to_this_person': 38,\n",
      " 'from_this_person_to_poi': 1,\n",
      " 'loan_advances': 'NaN',\n",
      " 'long_term_incentive': 'NaN',\n",
      " 'other': 1740,\n",
      " 'poi': False,\n",
      " 'restricted_stock': 585062,\n",
      " 'restricted_stock_deferred': 'NaN',\n",
      " 'salary': 365788,\n",
      " 'shared_receipt_with_poi': 702,\n",
      " 'to_messages': 807,\n",
      " 'total_payments': 1061827,\n",
      " 'total_stock_value': 585062}\n",
      "BAXTER JOHN C\n",
      "{'bonus': 1200000,\n",
      " 'deferral_payments': 1295738,\n",
      " 'deferred_income': -1386055,\n",
      " 'director_fees': 'NaN',\n",
      " 'email_address': 'NaN',\n",
      " 'exercised_stock_options': 6680544,\n",
      " 'expenses': 11200,\n",
      " 'from_messages': 'NaN',\n",
      " 'from_poi_to_this_person': 'NaN',\n",
      " 'from_this_person_to_poi': 'NaN',\n",
      " 'loan_advances': 'NaN',\n",
      " 'long_term_incentive': 1586055,\n",
      " 'other': 2660303,\n",
      " 'poi': False,\n",
      " 'restricted_stock': 3942714,\n",
      " 'restricted_stock_deferred': 'NaN',\n",
      " 'salary': 267102,\n",
      " 'shared_receipt_with_poi': 'NaN',\n",
      " 'to_messages': 'NaN',\n",
      " 'total_payments': 5634343,\n",
      " 'total_stock_value': 10623258}\n"
     ]
    }
   ],
   "source": [
    "stop = 0\n",
    "for k, v in data_dict.iteritems():\n",
    "    print k\n",
    "    pprint.pprint(v)\n",
    "    if stop == 1:\n",
    "        break\n",
    "    stop += 1"
   ]
  },
  {
   "cell_type": "markdown",
   "metadata": {},
   "source": [
    "The keys of data_dict are the names of people and the values are various features. Every feature except poi are numerical values. It looks like it is either a number of 'NaN' when the data is missing. And poi is a boolean value that I can use to find POI's."
   ]
  },
  {
   "cell_type": "code",
   "execution_count": 22,
   "metadata": {
    "collapsed": false
   },
   "outputs": [
    {
     "name": "stdout",
     "output_type": "stream",
     "text": [
      "The number of features: 21\n"
     ]
    }
   ],
   "source": [
    "### Finding the number of features\n",
    "for k,v in data_dict.iteritems():\n",
    "    print \"The number of features:\", len(v)\n",
    "    break"
   ]
  },
  {
   "cell_type": "markdown",
   "metadata": {},
   "source": [
    "There are total 20 (21 subtracted by 1 for 'poi') features I need to investigate. I will draw histograms for each feature."
   ]
  },
  {
   "cell_type": "code",
   "execution_count": 29,
   "metadata": {
    "collapsed": false
   },
   "outputs": [],
   "source": [
    "### 20 histograms for features\n",
    "f, axarr = plt.subplots(2, 2)\n",
    "\n",
    "### x: x coordinate values, y: y coordinate values\n",
    "### r: row index, c: column index\n",
    "### title: title of a subplot\n",
    "def subplot_histogram(x, y, r, c, title):\n",
    "    axarr[r, c].scatter(x,y)\n",
    "    axarr[r, c].set_title(title)\n",
    "\n",
    "x = [1,2,3,4,5,6,7,8,9]\n",
    "y = [1,2,3,4,5,6,7,8,9]\n",
    "\n",
    "subplot_histogram(x,y,0,0,'asdf')\n",
    "subplot_histogram(x,y,0,1,'affsdf')\n",
    "subplot_histogram(x,y,1,0,'aasdfsdf')\n",
    "subplot_histogram(x,y,1,1,'qqasdf')\n",
    "plt.show()\n",
    "# axarr[0, 0].plot(x, y)\n",
    "# axarr[0, 0].set_title('Axis [0,0]')\n",
    "# axarr[0, 1].scatter(x, y)\n",
    "# axarr[0, 1].set_title('Axis [0,1]')\n",
    "# axarr[1, 0].plot(x, y ** 2)\n",
    "# axarr[1, 0].set_title('Axis [1,0]')\n",
    "# axarr[1, 1].scatter(x, y ** 2)\n",
    "# axarr[1, 1].set_title('Axis [1,1]')"
   ]
  },
  {
   "cell_type": "code",
   "execution_count": null,
   "metadata": {
    "collapsed": true
   },
   "outputs": [],
   "source": []
  }
 ],
 "metadata": {
  "kernelspec": {
   "display_name": "Python 2",
   "language": "python",
   "name": "python2"
  },
  "language_info": {
   "codemirror_mode": {
    "name": "ipython",
    "version": 2
   },
   "file_extension": ".py",
   "mimetype": "text/x-python",
   "name": "python",
   "nbconvert_exporter": "python",
   "pygments_lexer": "ipython2",
   "version": "2.7.10"
  }
 },
 "nbformat": 4,
 "nbformat_minor": 0
}
